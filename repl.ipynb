{
 "cells": [
  {
   "cell_type": "code",
   "execution_count": 12,
   "id": "b55f0520",
   "metadata": {},
   "outputs": [
    {
     "name": "stdout",
     "output_type": "stream",
     "text": [
      "Loaded as API: http://127.0.0.1:7860/ ✔\n",
      "({'visible': False, '__type__': 'update'}, {'value': '/tmp/gradio/29f9294b2ddd7f18f82785d70d97da3da1006107829151a23535c5406702b8ae/2025-08-29_20-29-48_2757.png', '__type__': 'update'}, {'__type__': 'update'}, {'value': False, '__type__': 'update'}, {'selected_index': 0, 'allow_preview': True, 'preview': True, 'visible': True, 'value': [{'image': '/tmp/gradio/29f9294b2ddd7f18f82785d70d97da3da1006107829151a23535c5406702b8ae/2025-08-29_20-29-48_2757.png', 'caption': None}], '__type__': 'update'}, {'value': {'Prompt': 'Scandinavian-style (living room interior) With furniture and sofa and coffee tables and electric lamps and rug and bookshelves and occasional tables and chairs. . With . . Cinematic photo, highly detailed, cinematic lighting, ultra-detailed, ultrarealistic, photorealism, 8k. Scandinavian interior design style', 'Negative': '', 'steps': 60, 'cfg': 8, 'width': 1152, 'height': 896, 'seed': 1522208887, 'sampler_name': 'dpmpp_2m_sde_gpu', 'scheduler': 'karras', 'base_model_name': 'albedo.safetensors', 'base_model_hash': 'C379D154EB476B67B390E31463C41C79AC9E766466315408886EBB7FAA2EA098', 'loras': [], 'start_step': 0, 'denoise': None, 'clip_skip': 1, 'software': 'RuinedFooocus'}, '__type__': 'update'}, {'__type__': 'update'})\n"
     ]
    }
   ],
   "source": [
    "from gradio_client import Client, handle_file\n",
    "\n",
    "client = Client(\"http://127.0.0.1:7860/\")\n",
    "result = client.predict(\n",
    "\t\tparam_0=2,\n",
    "\t\tparam_1=handle_file('https://i.remax.com.tr/photos/41/1225741/O/d66b3b4de5734d8ab46caf90913ba8dc.jpg'),\n",
    "\t\tparam_2={\"background\":handle_file('https://i.remax.com.tr/photos/41/1225741/O/d66b3b4de5734d8ab46caf90913ba8dc.jpg'),\"layers\":[],\"composite\":None},\n",
    "\t\tparam_3=\"Scandinavian-style (living room interior) With furniture and sofa and coffee tables and electric lamps and rug and bookshelves and occasional tables and chairs. . With . . Cinematic photo, highly detailed, cinematic lighting, ultra-detailed, ultrarealistic, photorealism, 8k. Scandinavian interior design style\",\n",
    "\t\tparam_4=\"\",\n",
    "\t\tparam_5=\"Quality\",\n",
    "\t\tparam_6=60,\n",
    "\t\tparam_7=8,\n",
    "\t\tparam_8=\"dpmpp_2m_sde_gpu\",\n",
    "\t\tparam_9=\"karras\",\n",
    "\t\tparam_10=1,\n",
    "\t\tparam_11=\"1152x896 (4:3)\",\n",
    "\t\tparam_12=1152,\n",
    "\t\tparam_13=896,\n",
    "\t\tparam_14=[],\n",
    "\t\tparam_15=1,\n",
    "\t\tparam_16=False,\n",
    "\t\tparam_17=\"\",\n",
    "\t\tparam_18=-1,\n",
    "\t\tparam_19=\"albedo.safetensors\",\n",
    "\t\tparam_20=[],\n",
    "\t\tparam_21=\"\",\n",
    "\t\tparam_22=False,\n",
    "\t\tparam_23=\"Standard\",\n",
    "\t\tparam_24=5,\n",
    "\t\tparam_25=\"all\",\n",
    "\t\tparam_26=\"all\",\n",
    "\t\tparam_27=\"all\",\n",
    "\t\tparam_28=\"all\",\n",
    "\t\tparam_29=\"all\",\n",
    "\t\tparam_30=\"all\",\n",
    "\t\tparam_31=\"all\",\n",
    "\t\tparam_32=20,\n",
    "\t\tparam_33=\"\",\n",
    "\t\tparam_34=True,\n",
    "\t\tparam_35=\"\",\n",
    "\t\tparam_36=\"\",\n",
    "\t\tparam_37=\"\",\n",
    "\t\tparam_38=\"\",\n",
    "\t\tparam_39=\"\",\n",
    "\t\tparam_40=\"none\",\n",
    "\t\tparam_41=\"SDXL\",\n",
    "\t\tparam_42=\"Depth (high)\",\n",
    "\t\tparam_43=\"Depth\",\n",
    "\t\tparam_44=0.2,\n",
    "\t\tparam_45=0.8,\n",
    "\t\tparam_46=0,\n",
    "\t\tparam_47=1,\n",
    "\t\tparam_48=1,\n",
    "\t\tparam_49=\"None\",\n",
    "\t\tparam_50=handle_file('https://i.remax.com.tr/photos/41/1225741/O/d66b3b4de5734d8ab46caf90913ba8dc.jpg'),\n",
    "\t\tparam_51=False,\n",
    "        fn_index=51\n",
    ")\n",
    "print(result)"
   ]
  },
  {
   "cell_type": "code",
   "execution_count": null,
   "id": "3d86fdae",
   "metadata": {},
   "outputs": [],
   "source": []
  }
 ],
 "metadata": {
  "kernelspec": {
   "display_name": "env",
   "language": "python",
   "name": "python3"
  },
  "language_info": {
   "codemirror_mode": {
    "name": "ipython",
    "version": 3
   },
   "file_extension": ".py",
   "mimetype": "text/x-python",
   "name": "python",
   "nbconvert_exporter": "python",
   "pygments_lexer": "ipython3",
   "version": "3.10.13"
  }
 },
 "nbformat": 4,
 "nbformat_minor": 5
}
